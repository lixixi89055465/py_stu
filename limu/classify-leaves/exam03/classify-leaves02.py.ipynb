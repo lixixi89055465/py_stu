{
 "cells": [
  {
   "cell_type": "code",
   "execution_count": 1,
   "id": "3b0f6158",
   "metadata": {},
   "outputs": [
    {
     "name": "stdout",
     "output_type": "stream",
     "text": [
      "cuda:0\n",
      "176\n",
      "0000000000000000000000000000000000000000000000000000000000000000000000000000000000000000000000000000\n",
      "['abies_concolor', 'abies_nordmanniana', 'acer_campestre', 'acer_ginnala', 'acer_griseum', 'acer_negundo', 'acer_palmatum', 'acer_pensylvanicum', 'acer_platanoides', 'acer_pseudoplatanus']\n",
      "1111111111111111111111111111111111111111111111111111111111111111111111111111111111111111111111111111\n",
      "{'abies_concolor': 0, 'abies_nordmanniana': 1, 'acer_campestre': 2, 'acer_ginnala': 3, 'acer_griseum': 4, 'acer_negundo': 5, 'acer_palmatum': 6, 'acer_pensylvanicum': 7, 'acer_platanoides': 8, 'acer_pseudoplatanus': 9, 'acer_rubrum': 10, 'acer_saccharinum': 11, 'acer_saccharum': 12, 'aesculus_flava': 13, 'aesculus_glabra': 14, 'aesculus_hippocastamon': 15, 'aesculus_pavi': 16, 'ailanthus_altissima': 17, 'albizia_julibrissin': 18, 'amelanchier_arborea': 19, 'amelanchier_canadensis': 20, 'amelanchier_laevis': 21, 'asimina_triloba': 22, 'betula_alleghaniensis': 23, 'betula_jacqemontii': 24, 'betula_lenta': 25, 'betula_nigra': 26, 'betula_populifolia': 27, 'broussonettia_papyrifera': 28, 'carpinus_betulus': 29, 'carpinus_caroliniana': 30, 'carya_cordiformis': 31, 'carya_glabra': 32, 'carya_ovata': 33, 'carya_tomentosa': 34, 'castanea_dentata': 35, 'catalpa_bignonioides': 36, 'catalpa_speciosa': 37, 'cedrus_atlantica': 38, 'cedrus_deodara': 39, 'cedrus_libani': 40, 'celtis_occidentalis': 41, 'celtis_tenuifolia': 42, 'cercidiphyllum_japonicum': 43, 'cercis_canadensis': 44, 'chamaecyparis_pisifera': 45, 'chamaecyparis_thyoides': 46, 'chionanthus_retusus': 47, 'chionanthus_virginicus': 48, 'cladrastis_lutea': 49, 'cornus_florida': 50, 'cornus_kousa': 51, 'cornus_mas': 52, 'crataegus_crus-galli': 53, 'crataegus_laevigata': 54, 'crataegus_phaenopyrum': 55, 'crataegus_pruinosa': 56, 'crataegus_viridis': 57, 'cryptomeria_japonica': 58, 'diospyros_virginiana': 59, 'eucommia_ulmoides': 60, 'evodia_daniellii': 61, 'fagus_grandifolia': 62, 'ficus_carica': 63, 'fraxinus_nigra': 64, 'fraxinus_pennsylvanica': 65, 'ginkgo_biloba': 66, 'gleditsia_triacanthos': 67, 'gymnocladus_dioicus': 68, 'halesia_tetraptera': 69, 'ilex_opaca': 70, 'juglans_cinerea': 71, 'juglans_nigra': 72, 'juniperus_virginiana': 73, 'koelreuteria_paniculata': 74, 'larix_decidua': 75, 'liquidambar_styraciflua': 76, 'liriodendron_tulipifera': 77, 'maclura_pomifera': 78, 'magnolia_acuminata': 79, 'magnolia_denudata': 80, 'magnolia_grandiflora': 81, 'magnolia_macrophylla': 82, 'magnolia_stellata': 83, 'magnolia_tripetala': 84, 'magnolia_virginiana': 85, 'malus_baccata': 86, 'malus_coronaria': 87, 'malus_floribunda': 88, 'malus_hupehensis': 89, 'malus_pumila': 90, 'metasequoia_glyptostroboides': 91, 'morus_alba': 92, 'morus_rubra': 93, 'nyssa_sylvatica': 94, 'ostrya_virginiana': 95, 'oxydendrum_arboreum': 96, 'paulownia_tomentosa': 97, 'phellodendron_amurense': 98, 'picea_abies': 99, 'picea_orientalis': 100, 'picea_pungens': 101, 'pinus_bungeana': 102, 'pinus_cembra': 103, 'pinus_densiflora': 104, 'pinus_echinata': 105, 'pinus_flexilis': 106, 'pinus_koraiensis': 107, 'pinus_nigra': 108, 'pinus_parviflora': 109, 'pinus_peucea': 110, 'pinus_pungens': 111, 'pinus_resinosa': 112, 'pinus_rigida': 113, 'pinus_strobus': 114, 'pinus_sylvestris': 115, 'pinus_taeda': 116, 'pinus_thunbergii': 117, 'pinus_virginiana': 118, 'pinus_wallichiana': 119, 'platanus_acerifolia': 120, 'platanus_occidentalis': 121, 'populus_deltoides': 122, 'populus_grandidentata': 123, 'populus_tremuloides': 124, 'prunus_pensylvanica': 125, 'prunus_sargentii': 126, 'prunus_serotina': 127, 'prunus_serrulata': 128, 'prunus_subhirtella': 129, 'prunus_virginiana': 130, 'prunus_yedoensis': 131, 'pseudolarix_amabilis': 132, 'ptelea_trifoliata': 133, 'pyrus_calleryana': 134, 'quercus_acutissima': 135, 'quercus_alba': 136, 'quercus_bicolor': 137, 'quercus_cerris': 138, 'quercus_coccinea': 139, 'quercus_imbricaria': 140, 'quercus_macrocarpa': 141, 'quercus_marilandica': 142, 'quercus_michauxii': 143, 'quercus_montana': 144, 'quercus_muehlenbergii': 145, 'quercus_nigra': 146, 'quercus_palustris': 147, 'quercus_phellos': 148, 'quercus_robur': 149, 'quercus_shumardii': 150, 'quercus_stellata': 151, 'quercus_velutina': 152, 'quercus_virginiana': 153, 'robinia_pseudo-acacia': 154, 'salix_babylonica': 155, 'salix_caroliniana': 156, 'salix_matsudana': 157, 'salix_nigra': 158, 'sassafras_albidum': 159, 'staphylea_trifolia': 160, 'stewartia_pseudocamellia': 161, 'styrax_japonica': 162, 'taxodium_distichum': 163, 'tilia_americana': 164, 'tilia_cordata': 165, 'tilia_europaea': 166, 'tilia_tomentosa': 167, 'tsuga_canadensis': 168, 'ulmus_americana': 169, 'ulmus_glabra': 170, 'ulmus_parvifolia': 171, 'ulmus_procera': 172, 'ulmus_pumila': 173, 'ulmus_rubra': 174, 'zelkova_serrata': 175}\n",
      "2222222222222222222222222222222222222222222222222222222222222222222222222222222222222222222222222222\n",
      "{0: 'abies_concolor', 1: 'abies_nordmanniana', 2: 'acer_campestre', 3: 'acer_ginnala', 4: 'acer_griseum', 5: 'acer_negundo', 6: 'acer_palmatum', 7: 'acer_pensylvanicum', 8: 'acer_platanoides', 9: 'acer_pseudoplatanus', 10: 'acer_rubrum', 11: 'acer_saccharinum', 12: 'acer_saccharum', 13: 'aesculus_flava', 14: 'aesculus_glabra', 15: 'aesculus_hippocastamon', 16: 'aesculus_pavi', 17: 'ailanthus_altissima', 18: 'albizia_julibrissin', 19: 'amelanchier_arborea', 20: 'amelanchier_canadensis', 21: 'amelanchier_laevis', 22: 'asimina_triloba', 23: 'betula_alleghaniensis', 24: 'betula_jacqemontii', 25: 'betula_lenta', 26: 'betula_nigra', 27: 'betula_populifolia', 28: 'broussonettia_papyrifera', 29: 'carpinus_betulus', 30: 'carpinus_caroliniana', 31: 'carya_cordiformis', 32: 'carya_glabra', 33: 'carya_ovata', 34: 'carya_tomentosa', 35: 'castanea_dentata', 36: 'catalpa_bignonioides', 37: 'catalpa_speciosa', 38: 'cedrus_atlantica', 39: 'cedrus_deodara', 40: 'cedrus_libani', 41: 'celtis_occidentalis', 42: 'celtis_tenuifolia', 43: 'cercidiphyllum_japonicum', 44: 'cercis_canadensis', 45: 'chamaecyparis_pisifera', 46: 'chamaecyparis_thyoides', 47: 'chionanthus_retusus', 48: 'chionanthus_virginicus', 49: 'cladrastis_lutea', 50: 'cornus_florida', 51: 'cornus_kousa', 52: 'cornus_mas', 53: 'crataegus_crus-galli', 54: 'crataegus_laevigata', 55: 'crataegus_phaenopyrum', 56: 'crataegus_pruinosa', 57: 'crataegus_viridis', 58: 'cryptomeria_japonica', 59: 'diospyros_virginiana', 60: 'eucommia_ulmoides', 61: 'evodia_daniellii', 62: 'fagus_grandifolia', 63: 'ficus_carica', 64: 'fraxinus_nigra', 65: 'fraxinus_pennsylvanica', 66: 'ginkgo_biloba', 67: 'gleditsia_triacanthos', 68: 'gymnocladus_dioicus', 69: 'halesia_tetraptera', 70: 'ilex_opaca', 71: 'juglans_cinerea', 72: 'juglans_nigra', 73: 'juniperus_virginiana', 74: 'koelreuteria_paniculata', 75: 'larix_decidua', 76: 'liquidambar_styraciflua', 77: 'liriodendron_tulipifera', 78: 'maclura_pomifera', 79: 'magnolia_acuminata', 80: 'magnolia_denudata', 81: 'magnolia_grandiflora', 82: 'magnolia_macrophylla', 83: 'magnolia_stellata', 84: 'magnolia_tripetala', 85: 'magnolia_virginiana', 86: 'malus_baccata', 87: 'malus_coronaria', 88: 'malus_floribunda', 89: 'malus_hupehensis', 90: 'malus_pumila', 91: 'metasequoia_glyptostroboides', 92: 'morus_alba', 93: 'morus_rubra', 94: 'nyssa_sylvatica', 95: 'ostrya_virginiana', 96: 'oxydendrum_arboreum', 97: 'paulownia_tomentosa', 98: 'phellodendron_amurense', 99: 'picea_abies', 100: 'picea_orientalis', 101: 'picea_pungens', 102: 'pinus_bungeana', 103: 'pinus_cembra', 104: 'pinus_densiflora', 105: 'pinus_echinata', 106: 'pinus_flexilis', 107: 'pinus_koraiensis', 108: 'pinus_nigra', 109: 'pinus_parviflora', 110: 'pinus_peucea', 111: 'pinus_pungens', 112: 'pinus_resinosa', 113: 'pinus_rigida', 114: 'pinus_strobus', 115: 'pinus_sylvestris', 116: 'pinus_taeda', 117: 'pinus_thunbergii', 118: 'pinus_virginiana', 119: 'pinus_wallichiana', 120: 'platanus_acerifolia', 121: 'platanus_occidentalis', 122: 'populus_deltoides', 123: 'populus_grandidentata', 124: 'populus_tremuloides', 125: 'prunus_pensylvanica', 126: 'prunus_sargentii', 127: 'prunus_serotina', 128: 'prunus_serrulata', 129: 'prunus_subhirtella', 130: 'prunus_virginiana', 131: 'prunus_yedoensis', 132: 'pseudolarix_amabilis', 133: 'ptelea_trifoliata', 134: 'pyrus_calleryana', 135: 'quercus_acutissima', 136: 'quercus_alba', 137: 'quercus_bicolor', 138: 'quercus_cerris', 139: 'quercus_coccinea', 140: 'quercus_imbricaria', 141: 'quercus_macrocarpa', 142: 'quercus_marilandica', 143: 'quercus_michauxii', 144: 'quercus_montana', 145: 'quercus_muehlenbergii', 146: 'quercus_nigra', 147: 'quercus_palustris', 148: 'quercus_phellos', 149: 'quercus_robur', 150: 'quercus_shumardii', 151: 'quercus_stellata', 152: 'quercus_velutina', 153: 'quercus_virginiana', 154: 'robinia_pseudo-acacia', 155: 'salix_babylonica', 156: 'salix_caroliniana', 157: 'salix_matsudana', 158: 'salix_nigra', 159: 'sassafras_albidum', 160: 'staphylea_trifolia', 161: 'stewartia_pseudocamellia', 162: 'styrax_japonica', 163: 'taxodium_distichum', 164: 'tilia_americana', 165: 'tilia_cordata', 166: 'tilia_europaea', 167: 'tilia_tomentosa', 168: 'tsuga_canadensis', 169: 'ulmus_americana', 170: 'ulmus_glabra', 171: 'ulmus_parvifolia', 172: 'ulmus_procera', 173: 'ulmus_pumila', 174: 'ulmus_rubra', 175: 'zelkova_serrata'}\n",
      "cuda:0\n"
     ]
    }
   ],
   "source": [
    "import torch\n",
    "import torch.nn as nn\n",
    "from torch.nn import functional as F\n",
    "import ttach as tta\n",
    "from resnest.torch import resnest50\n",
    "from cutmix.cutmix import CutMix\n",
    "from cutmix.utils import CutMixCrossEntropyLoss\n",
    "\n",
    "import pandas as pd\n",
    "import numpy as np\n",
    "from torch.utils.data import Dataset, DataLoader, TensorDataset\n",
    "\n",
    "from torchvision import transforms\n",
    "from torch.optim.lr_scheduler import CosineAnnealingLR\n",
    "from sklearn.model_selection import KFold\n",
    "from PIL import Image\n",
    "import os\n",
    "import matplotlib.pyplot as plt\n",
    "import torchvision.models as models\n",
    "\n",
    "from tqdm import tqdm\n",
    "\n",
    "devices = torch.device('cuda:0' if torch.cuda.is_available() else 'cpu')\n",
    "print(devices)\n",
    "labels_dataframe = pd.read_csv('../data/train.csv')\n",
    "# print(labels_dataframe.head(5))\n",
    "\n",
    "leaves_labels = sorted(set(labels_dataframe['label']))\n",
    "n_classes = len(leaves_labels)\n",
    "print(n_classes)\n",
    "print('0' * 100)\n",
    "print(leaves_labels[:10])\n",
    "class_to_num = dict(zip(leaves_labels, range(n_classes)))\n",
    "print('1' * 100)\n",
    "print(class_to_num)\n",
    "# 再转换回来，方便最后预测的时候使用\n",
    "print('2' * 100)\n",
    "num_to_class = {v: k for k, v in class_to_num.items()}\n",
    "print(num_to_class)\n",
    "\n",
    "\n",
    "# 加成pytorch的dataset\n",
    "class TrainValidData(Dataset):\n",
    "\tdef __init__(self, csv_path, file_path, resize_height=224, resize_width=224, transform=None):\n",
    "\t\t\"\"\"\n",
    "\t\t Args:\n",
    "\t\t     csv_path (string): csv 文件路径\n",
    "\t\t     img_path (string): 图像文件所在路径\n",
    "\t\t \"\"\"\n",
    "\t\t# 需要调整后的照片尺寸，我这里每张图片的大小尺寸不一致#\n",
    "\t\tself.resize_height = resize_height\n",
    "\t\tself.resize_width = resize_width\n",
    "\t\tself.file_path = file_path\n",
    "\t\tself.to_tensor = transforms.ToTensor()  # 将数据转换成tensor形式\n",
    "\t\tself.transform = transform\n",
    "\t\t# 读取 csv 文件\n",
    "\t\t# 利用pandas读取csv文件\n",
    "\t\tself.data_info = pd.read_csv(csv_path, header=None)  # header=None是去掉表头部分\n",
    "\t\t# 文件第一列包含图像文件名称\n",
    "\t\tself.image_arr = np.asarray(self.data_info.iloc[1:, 0])  # self.data_info.iloc[1:,0]表示读取第一列，从第二行开始一直读取到最后一行\n",
    "\t\t# 第二列是图像的 label\n",
    "\t\tself.label_arr = np.asarray(self.data_info.iloc[1:, 1])\n",
    "\t\t# 计算 length\n",
    "\t\tself.data_len = len(self.data_info.index) - 1\n",
    "\n",
    "\tdef __getitem__(self, index):\n",
    "\t\t# 从 image_arr中得到索引对应的文件名\n",
    "\t\tsingle_image_name = self.image_arr[index]\n",
    "\t\timg_as_img = Image.open(self.file_path + single_image_name)\n",
    "\t\t# 如果需要将RGB三通道的图片转换成灰度图片可参考下面两行\n",
    "\t\t# if img_as_img.mode != 'L':\n",
    "\t\t#     img_as_img = img_as_img.convert('L')\n",
    "\t\ttransform = transforms.Compose([\n",
    "\t\t\ttransforms.Resize((224, 224)),\n",
    "\t\t\ttransforms.ToTensor()\n",
    "\t\t])\n",
    "\t\timg_as_img = transform(img_as_img)\n",
    "\t\t# 得到图像的 label\n",
    "\t\tlabel = self.label_arr[index]\n",
    "\t\tnumber_label = class_to_num[label]\n",
    "\t\treturn (img_as_img, number_label)\n",
    "\n",
    "\tdef __len__(self):\n",
    "\t\treturn self.data_len\n",
    "\n",
    "\n",
    "# 加成pytorch的dataset\n",
    "class TestData(Dataset):\n",
    "\tdef __init__(self, csv_path, file_path, \\\n",
    "\t\t\t\t resize_height=224, resize_width=224, transform=None):\n",
    "\t\t\"\"\"\n",
    "\t\t Args:\n",
    "\t\t     csv_path (string): csv 文件路径\n",
    "\t\t     img_path (string): 图像文件所在路径\n",
    "\t\t \"\"\"\n",
    "\t\t# 需要调整后的照片尺寸，我这里每张图片的大小尺寸不一致#\n",
    "\t\tself.resize_height = resize_height\n",
    "\t\tself.resize_width = resize_width\n",
    "\t\tself.file_path = file_path\n",
    "\t\tself.to_tensor = transforms.ToTensor()  # 将数据转换成tensor形式\n",
    "\t\tself.transform = transform\n",
    "\t\t# 读取 csv 文件\n",
    "\t\t# 利用pandas读取csv文件\n",
    "\t\tself.data_info = pd.read_csv(csv_path, header=None)  # header=None是去掉表头部分\n",
    "\t\t# 文件第一列包含图像文件名称\n",
    "\t\tself.image_arr = np.asarray(self.data_info.iloc[1:, 0])  # self.data_info.iloc[1:,0]表示读取第一列，从第二行开始一直读取到最后一行\n",
    "\t\t# 计算 length\n",
    "\t\tself.data_len = len(self.data_info.index) - 1\n",
    "\n",
    "\tdef __getitem__(self, index):\n",
    "\t\t# 从 image_arr中得到索引对应的文件名\n",
    "\t\tsingle_image_name = self.image_arr[index]\n",
    "\t\timg_as_img = Image.open(self.file_path + single_image_name)\n",
    "\t\t# 如果需要将RGB三通道的图片转换成灰度图片可参考下面两行\n",
    "\t\t# if img_as_img.mode != 'L':\n",
    "\t\t#     img_as_img = img_as_img.convert('L')\n",
    "\t\ttransform = transforms.Compose([\n",
    "\t\t\ttransforms.Resize((224, 224)),\n",
    "\t\t\ttransforms.ToTensor()\n",
    "\t\t])\n",
    "\t\timg_as_img = transform(img_as_img)\n",
    "\t\treturn img_as_img\n",
    "\n",
    "\tdef __len__(self):\n",
    "\t\treturn self.data_len\n",
    "\n",
    "\n",
    "train_transform = transforms.Compose([\n",
    "\ttransforms.RandomResizedCrop(224, scale=(0.08, 1), ratio=(3.0 / 4, 4.0 / 3)),\n",
    "\ttransforms.RandomHorizontalFlip(),\n",
    "\ttransforms.ColorJitter(brightness=0.4, contrast=0.4, saturation=0.4),\n",
    "\ttransforms.ToTensor(),\n",
    "\ttransforms.Normalize([0.485, 0.456, 0.406], [0.229, 0.224, 0.225])\n",
    "])\n",
    "\n",
    "val_test_transform = transforms.Compose([\n",
    "\ttransforms.Resize((256, 256)),\n",
    "\ttransforms.CenterCrop(224),\n",
    "\ttransforms.ToTensor(),\n",
    "\ttransforms.Normalize([0.485, 0.456, 0.406], [0.229, 0.224, 0.225])\n",
    "])\n",
    "\n",
    "train_val_path = '../data/train.csv'\n",
    "test_path = '../data/test.csv'\n",
    "img_path = '../data/'\n",
    "\n",
    "train_val_dataset = TrainValidData(train_val_path, img_path)\n",
    "test_dataset = TestData(test_path, img_path, transform=val_test_transform)\n",
    "\n",
    "\n",
    "# 是否东住前面的曾\n",
    "def set_parameter_requires_grad(model, feature_extracting):\n",
    "\tif feature_extracting:\n",
    "\t\tmodel = model\n",
    "\t\tfor param in model.parameters():\n",
    "\t\t\tparam.requires_grad = False\n",
    "\n",
    "\n",
    "def resnest_model(num_classes, feature_extract=False):\n",
    "\tmodel_ft = resnest50(pretrained=True)\n",
    "\tset_parameter_requires_grad(model_ft, feature_extract)\n",
    "\tnum_ftrs = model_ft.fc.in_features\n",
    "\tmodel_ft.fc = nn.Sequential(nn.Linear(num_ftrs, num_classes))\n",
    "\treturn model_ft\n",
    "\n",
    "\n",
    "def get_deviec():\n",
    "\treturn 'cuda:0' if torch.cuda.is_available() else 'cpu'\n",
    "\n",
    "\n",
    "device = get_deviec()\n",
    "print(device)\n",
    "\n",
    "\n",
    "def train1(k_folds):\n",
    "\t# Configuration options\n",
    "\tk_folds = 5\n",
    "\tnum_epochs = 30\n",
    "\t# num_epochs = 1\n",
    "\tlearning_rate = 1e-4\n",
    "\tweight_decay = 1e-3\n",
    "\ttrain_loss_function = CutMixCrossEntropyLoss(True)\n",
    "\tvalid_loss_function = nn.CrossEntropyLoss()\n",
    "\t# For fold results\n",
    "\tresults = {}\n",
    "\ttorch.manual_seed(42)\n",
    "\tkfold = KFold(n_splits=k_folds, shuffle=True)\n",
    "\t# Start print\n",
    "\tprint('--------------------------------------')\n",
    "\tfor fold, (train_ids, valid_ids) in enumerate(kfold.split(train_val_dataset)):\n",
    "\t\tsave_path = f'./one-model-fold-{fold}.pth'\n",
    "\t\tif os.path.exists(save_path):\n",
    "\t\t\tcontinue\n",
    "\t\tprint(f'Fold {fold}')\n",
    "\t\tprint('--------------------------------------')\n",
    "\t\t# Sample elements randomly from a given list of ids, no replacement.\n",
    "\t\ttrain_subsampler = torch.utils.data.SubsetRandomSampler(train_ids)\n",
    "\t\tvalid_subsampler = torch.utils.data.SubsetRandomSampler(valid_ids)\n",
    "\t\t# Define data loaders for training and testing data in this fold\n",
    "\t\ttrainloader = torch.utils.data.DataLoader(\n",
    "\t\t\tCutMix(TrainValidData(train_val_path, img_path, transform=train_transform), \\\n",
    "\t\t\t\t   num_class=n_classes, beta=1.0, prob=0.5, num_mix=2), \\\n",
    "\t\t\tbatch_size=32, sampler=train_subsampler, num_workers=4, pin_memory=True\n",
    "\t\t)\n",
    "\t\tvalidloader = torch.utils.data.DataLoader(\n",
    "\t\t\tTrainValidData(train_val_path, img_path, transform=val_test_transform), \\\n",
    "\t\t\tbatch_size=32, sampler=valid_subsampler, num_workers=4, pin_memory=True\n",
    "\t\t)\n",
    "\t\tmodel = resnest_model(n_classes)\n",
    "\t\tmodel = model.to(device)\n",
    "\t\tmodel.device = device\n",
    "\t\toptimizer = torch.optim.AdamW(model.parameters(), \\\n",
    "\t\t\t\t\t\t\t\t\t  lr=learning_rate, weight_decay=weight_decay)\n",
    "\t\tscheduler = CosineAnnealingLR(optimizer, T_max=10)\n",
    "\t\tfor epoch in range(0, num_epochs):\n",
    "\t\t\tmodel.train()\n",
    "\t\t\tprint(f'Starting epoch{epoch + 1}')\n",
    "\t\t\ttrain_losses = []\n",
    "\t\t\ttrain_accs = []\n",
    "\t\t\tfor batch in tqdm(trainloader):\n",
    "\t\t\t\timgs, labels = batch\n",
    "\t\t\t\timgs = imgs.to(device)\n",
    "\t\t\t\tlabels = labels.to(device)\n",
    "\t\t\t\tlogits = model(imgs)\n",
    "\t\t\t\tloss = train_loss_function(logits, labels)\n",
    "\t\t\t\toptimizer.zero_grad()\n",
    "\t\t\t\tloss.backward()\n",
    "\t\t\t\toptimizer.step()\n",
    "\t\t\t\ttrain_losses.append(loss.item())\n",
    "\n",
    "\t\t\tprint(f'第{epoch + 1}个epoch的学习率:{optimizer.param_groups[0][\"lr\"]}')\n",
    "\t\t\tscheduler.step()\n",
    "\t\t\ttrain_loss = np.mean(train_losses, axis=-1)\n",
    "\t\t\tprint(f'[ Train | {epoch + 1:03d}/{num_epochs:03d}  loss= {train_loss:.5f}')\n",
    "\n",
    "\t\tprint('Train process has finished . Saving trained model.')\n",
    "\t\tprint('Starting validation')\n",
    "\t\tprint(f'saveing model with loss {train_loss}')\n",
    "\t\ttorch.save(model.state_dict(), save_path)\n",
    "\t\t# start validation\n",
    "\t\tmodel.eval()\n",
    "\t\tvalid_losses = []\n",
    "\t\tvalid_accs = []\n",
    "\t\twith torch.no_grad():\n",
    "\t\t\tfor batch in tqdm(validloader):\n",
    "\t\t\t\timgs, labels = batch\n",
    "\t\t\t\timgs = imgs.to(device)\n",
    "\t\t\t\tlabels = labels.to(device)\n",
    "\t\t\t\tlogits = model(imgs)\n",
    "\t\t\t\tloss = valid_loss_function(logits, labels.to(device))\n",
    "\t\t\t\tacc = (logits.argmax(dim=-1) == labels.to(device)).float().mean()\n",
    "\t\t\t\tvalid_losses.append(loss.item())\n",
    "\t\t\t\tvalid_accs.append(acc.item())\n",
    "\n",
    "\t\t\tvalid_loss = np.sum(valid_losses) / len(valid_losses)\n",
    "\t\t\tvalid_acc = np.sum(valid_accs) / len(valid_accs)\n",
    "\t\t\tprint(f'[ Valid | {epoch + 1:03d}/{num_epochs:03d} '\n",
    "\t\t\t\t  f' loss = {valid_loss:.5f}, acc = {valid_acc:.5f}')\n",
    "\t\t\tprint('Accuracy for fold %d: %d' % (fold, valid_acc))\n",
    "\t\t\tprint('--------------------------------------')\n",
    "\t\tresults[fold] = valid_acc\n",
    "\tprint(f'K-Fold cross validation results for {k_folds} FOLDS')\n",
    "\tprint('-' * 100)\n",
    "\ttotal_summation = 0.\n",
    "\tfor key, value in results.items():\n",
    "\t\tprint(f'Fold {key} : {value}')\n",
    "\t\ttotal_summation += value\n",
    "\tprint(f'Average :{total_summation / len(results.items())}')\n",
    "\n",
    "\n",
    "def predict1(k_folds):\n",
    "\ttestloader = torch.utils.data.DataLoader(\n",
    "\t\tTestData(test_path, img_path, transform=val_test_transform), \\\n",
    "\t\tbatch_size=32, num_workers=4\n",
    "\t)\n",
    "\t# predict\n",
    "\tmodel = resnest_model(n_classes)\n",
    "\t# create model and load weight from checkpoint\n",
    "\tmodel = model.to(device)\n",
    "\t# load the all folds\n",
    "\tfor test_fold in range(k_folds):\n",
    "\t\tmodel_path = f'./one-model-fold-{test_fold}.pth'\n",
    "\t\tsaveFileName = f'./submission-fold-{test_fold}.csv'\n",
    "\t\tmodel.load_state_dict(torch.load(model_path))\n",
    "\t\tmodel.eval()\n",
    "\t\ttta_model = tta.ClassificationTTAWrapper(model, \\\n",
    "\t\t\t\t\t\t\t\t\t\t\t\t tta.aliases.five_crop_transform(200, 200))\n",
    "\t\tpredictions = []\n",
    "\t\tfor batch in tqdm(testloader):\n",
    "\t\t\timgs = batch\n",
    "\t\t\twith torch.no_grad():\n",
    "\t\t\t\tlogits = tta_model(imgs.to(device))\n",
    "\t\t\tpredictions.extend(logits.argmax(dim=-1).cpu().numpy().tolist())\n",
    "\t\tpreds = []\n",
    "\t\tfor i in predictions:\n",
    "\t\t\tpreds.append(num_to_class[i])\n",
    "\t\ttest_data = pd.read_csv(test_path)\n",
    "\t\ttest_data['label'] = pd.read_csv(test_path)\n",
    "\t\tsubmission = pd.concat([test_data['image'], test_data['label']], axis=0)\n",
    "\t\tsubmission.to_csv(saveFileName, index=False)\n",
    "\t\tprint('Resnest model result done !!!')\n",
    "\t# 读取5折交叉验证的结果\n",
    "\tdf0 = pd.read_csv('./submission-fold-0.csv')\n",
    "\tdf1 = pd.read_csv('./submission-fold-1.csv')\n",
    "\tdf2 = pd.read_csv('./submission-fold-2.csv')\n",
    "\tdf3 = pd.read_csv('./submission-fold-3.csv')\n",
    "\tdf4 = pd.read_csv('./submission-fold-4.csv')\n",
    "\n",
    "\t# 往第0折结果里添加数字化标签列\n",
    "\tlist_num_label0 = []\n",
    "\tfor i in df0['label']:\n",
    "\t\tlist_num_label0.append(class_to_num[i])\n",
    "\tdf0['num_label0'] = list_num_label0\n",
    "\tprint(df0.head())\n",
    "\t# 往第1折结果里添加数字化标签列\n",
    "\tlist_num_label1 = []\n",
    "\tfor i in df1['label']:\n",
    "\t\tlist_num_label1.append(class_to_num[i])\n",
    "\tdf1['num_label1'] = list_num_label1\n",
    "\tdf1.head()\n",
    "\n",
    "\t# 往第2折结果里添加数字化标签列\n",
    "\tlist_num_label2 = []\n",
    "\tfor i in df2['label']:\n",
    "\t\tlist_num_label2.append(class_to_num[i])\n",
    "\tdf2['num_label2'] = list_num_label2\n",
    "\tdf2.head()\n",
    "\n",
    "\t# 往第3折结果里添加数字化标签列\n",
    "\tlist_num_label3 = []\n",
    "\tfor i in df3['label']:\n",
    "\t\tlist_num_label3.append(class_to_num[i])\n",
    "\tdf3['num_label3'] = list_num_label3\n",
    "\tdf3.head()\n",
    "\n",
    "\t# 往第4折结果里添加数字化标签列\n",
    "\tlist_num_label4 = []\n",
    "\tfor i in df4['label']:\n",
    "\t\tlist_num_label4.append(class_to_num[i])\n",
    "\tdf4['num_label4'] = list_num_label4\n",
    "\tdf4.head()\n",
    "\n",
    "\t# 准备整合5折的结果到同一个DataFrame\n",
    "\tdf_all = df0.copy()\n",
    "\tdf_all.drop(['label'], axis=1, inplace=True)\n",
    "\tprint(df_all.head())\n",
    "\tprint('0' * 100)\n",
    "\tdf_all['num_label1'] = list_num_label1\n",
    "\tdf_all['num_label2'] = list_num_label2\n",
    "\tdf_all['num_label3'] = list_num_label3\n",
    "\tdf_all['num_label4'] = list_num_label4\n",
    "\tprint(df_all.head())\n",
    "\tprint('1' * 100)\n",
    "\t# 对 df_all 进行转置 ，方便求众数\n",
    "\tdf_all_transpose = df_all.copy().drop(['image'], axis=1).transpose()\n",
    "\tprint(df_all_transpose.head())\n",
    "\tprint('2' * 100)\n",
    "\tdf_mode = df_all_transpose.mode().transpose()\n",
    "\tprint(df_mode.head())\n",
    "\tvoting_class = []\n",
    "\tfor each in df_mode[0]:\n",
    "\t\tvoting_class.append(num_to_class[each])\n",
    "\tprint(voting_class)\n",
    "\t# 将投票结果的字符串标签添加到df_all中\n",
    "\tdf_all['label'] = voting_class\n",
    "\tprint(df_all.head())\n",
    "\t# 提取 image和label 两列为最终的结果\n",
    "\n",
    "\tdf_submission = df_all[['image', 'label']].copy()\n",
    "\tprint(df_submission.head())\n",
    "\n",
    "\t# 保存当前模型得到的最终结果\n",
    "\tdf_submission.to_csv('./submission-resnest.csv', index=False)\n",
    "\tprint('Voting results of resnest successfully saved!')\n",
    " "
   ]
  },
  {
   "cell_type": "code",
   "execution_count": 2,
   "id": "054eb983",
   "metadata": {},
   "outputs": [
    {
     "name": "stdout",
     "output_type": "stream",
     "text": [
      "--------------------------------------\n",
      "Fold 0\n",
      "--------------------------------------\n",
      "Starting epoch1\n"
     ]
    },
    {
     "name": "stderr",
     "output_type": "stream",
     "text": [
      "100%|█████████████████████████████████████████████████████████████████████████████████████████| 459/459 [01:31<00:00,  5.01it/s]\n"
     ]
    },
    {
     "name": "stdout",
     "output_type": "stream",
     "text": [
      "第1个epoch的学习率:0.0001\n",
      "[ Train | 001/030  loss= 3.28226\n",
      "Starting epoch2\n"
     ]
    },
    {
     "name": "stderr",
     "output_type": "stream",
     "text": [
      "100%|█████████████████████████████████████████████████████████████████████████████████████████| 459/459 [01:32<00:00,  4.97it/s]\n"
     ]
    },
    {
     "name": "stdout",
     "output_type": "stream",
     "text": [
      "第2个epoch的学习率:9.755282581475769e-05\n",
      "[ Train | 002/030  loss= 2.17232\n",
      "Starting epoch3\n"
     ]
    },
    {
     "name": "stderr",
     "output_type": "stream",
     "text": [
      "100%|█████████████████████████████████████████████████████████████████████████████████████████| 459/459 [01:32<00:00,  4.95it/s]\n"
     ]
    },
    {
     "name": "stdout",
     "output_type": "stream",
     "text": [
      "第3个epoch的学习率:9.045084971874737e-05\n",
      "[ Train | 003/030  loss= 1.83927\n",
      "Starting epoch4\n"
     ]
    },
    {
     "name": "stderr",
     "output_type": "stream",
     "text": [
      "100%|█████████████████████████████████████████████████████████████████████████████████████████| 459/459 [01:32<00:00,  4.94it/s]\n"
     ]
    },
    {
     "name": "stdout",
     "output_type": "stream",
     "text": [
      "第4个epoch的学习率:7.938926261462366e-05\n",
      "[ Train | 004/030  loss= 1.66048\n",
      "Starting epoch5\n"
     ]
    },
    {
     "name": "stderr",
     "output_type": "stream",
     "text": [
      "100%|█████████████████████████████████████████████████████████████████████████████████████████| 459/459 [01:32<00:00,  4.97it/s]\n"
     ]
    },
    {
     "name": "stdout",
     "output_type": "stream",
     "text": [
      "第5个epoch的学习率:6.545084971874737e-05\n",
      "[ Train | 005/030  loss= 1.55058\n",
      "Starting epoch6\n"
     ]
    },
    {
     "name": "stderr",
     "output_type": "stream",
     "text": [
      "100%|█████████████████████████████████████████████████████████████████████████████████████████| 459/459 [01:32<00:00,  4.95it/s]\n"
     ]
    },
    {
     "name": "stdout",
     "output_type": "stream",
     "text": [
      "第6个epoch的学习率:4.9999999999999996e-05\n",
      "[ Train | 006/030  loss= 1.46074\n",
      "Starting epoch7\n"
     ]
    },
    {
     "name": "stderr",
     "output_type": "stream",
     "text": [
      "100%|█████████████████████████████████████████████████████████████████████████████████████████| 459/459 [01:32<00:00,  4.98it/s]\n"
     ]
    },
    {
     "name": "stdout",
     "output_type": "stream",
     "text": [
      "第7个epoch的学习率:3.454915028125263e-05\n",
      "[ Train | 007/030  loss= 1.38260\n",
      "Starting epoch8\n"
     ]
    },
    {
     "name": "stderr",
     "output_type": "stream",
     "text": [
      "100%|█████████████████████████████████████████████████████████████████████████████████████████| 459/459 [01:32<00:00,  4.97it/s]\n"
     ]
    },
    {
     "name": "stdout",
     "output_type": "stream",
     "text": [
      "第8个epoch的学习率:2.0610737385376345e-05\n",
      "[ Train | 008/030  loss= 1.29081\n",
      "Starting epoch9\n"
     ]
    },
    {
     "name": "stderr",
     "output_type": "stream",
     "text": [
      "100%|█████████████████████████████████████████████████████████████████████████████████████████| 459/459 [01:33<00:00,  4.92it/s]\n"
     ]
    },
    {
     "name": "stdout",
     "output_type": "stream",
     "text": [
      "第9个epoch的学习率:9.549150281252631e-06\n",
      "[ Train | 009/030  loss= 1.26879\n",
      "Starting epoch10\n"
     ]
    },
    {
     "name": "stderr",
     "output_type": "stream",
     "text": [
      "100%|█████████████████████████████████████████████████████████████████████████████████████████| 459/459 [01:32<00:00,  4.98it/s]\n"
     ]
    },
    {
     "name": "stdout",
     "output_type": "stream",
     "text": [
      "第10个epoch的学习率:2.447174185242323e-06\n",
      "[ Train | 010/030  loss= 1.25917\n",
      "Starting epoch11\n"
     ]
    },
    {
     "name": "stderr",
     "output_type": "stream",
     "text": [
      "100%|█████████████████████████████████████████████████████████████████████████████████████████| 459/459 [01:34<00:00,  4.85it/s]\n"
     ]
    },
    {
     "name": "stdout",
     "output_type": "stream",
     "text": [
      "第11个epoch的学习率:0.0\n",
      "[ Train | 011/030  loss= 1.25522\n",
      "Starting epoch12\n"
     ]
    },
    {
     "name": "stderr",
     "output_type": "stream",
     "text": [
      "100%|█████████████████████████████████████████████████████████████████████████████████████████| 459/459 [01:32<00:00,  4.97it/s]\n"
     ]
    },
    {
     "name": "stdout",
     "output_type": "stream",
     "text": [
      "第12个epoch的学习率:2.4471741852423237e-06\n",
      "[ Train | 012/030  loss= 1.25886\n",
      "Starting epoch13\n"
     ]
    },
    {
     "name": "stderr",
     "output_type": "stream",
     "text": [
      "100%|█████████████████████████████████████████████████████████████████████████████████████████| 459/459 [01:32<00:00,  4.98it/s]\n"
     ]
    },
    {
     "name": "stdout",
     "output_type": "stream",
     "text": [
      "第13个epoch的学习率:9.549150281252667e-06\n",
      "[ Train | 013/030  loss= 1.24259\n",
      "Starting epoch14\n"
     ]
    },
    {
     "name": "stderr",
     "output_type": "stream",
     "text": [
      "100%|█████████████████████████████████████████████████████████████████████████████████████████| 459/459 [01:32<00:00,  4.96it/s]\n"
     ]
    },
    {
     "name": "stdout",
     "output_type": "stream",
     "text": [
      "第14个epoch的学习率:2.0610737385376434e-05\n",
      "[ Train | 014/030  loss= 1.25486\n",
      "Starting epoch15\n"
     ]
    },
    {
     "name": "stderr",
     "output_type": "stream",
     "text": [
      "100%|█████████████████████████████████████████████████████████████████████████████████████████| 459/459 [01:32<00:00,  4.95it/s]\n"
     ]
    },
    {
     "name": "stdout",
     "output_type": "stream",
     "text": [
      "第15个epoch的学习率:3.4549150281252785e-05\n",
      "[ Train | 015/030  loss= 1.24456\n",
      "Starting epoch16\n"
     ]
    },
    {
     "name": "stderr",
     "output_type": "stream",
     "text": [
      "100%|█████████████████████████████████████████████████████████████████████████████████████████| 459/459 [01:32<00:00,  4.96it/s]\n"
     ]
    },
    {
     "name": "stdout",
     "output_type": "stream",
     "text": [
      "第16个epoch的学习率:5.0000000000000226e-05\n",
      "[ Train | 016/030  loss= 1.27592\n",
      "Starting epoch17\n"
     ]
    },
    {
     "name": "stderr",
     "output_type": "stream",
     "text": [
      "100%|█████████████████████████████████████████████████████████████████████████████████████████| 459/459 [01:32<00:00,  4.96it/s]\n"
     ]
    },
    {
     "name": "stdout",
     "output_type": "stream",
     "text": [
      "第17个epoch的学习率:6.545084971874767e-05\n",
      "[ Train | 017/030  loss= 1.30440\n",
      "Starting epoch18\n"
     ]
    },
    {
     "name": "stderr",
     "output_type": "stream",
     "text": [
      "100%|█████████████████████████████████████████████████████████████████████████████████████████| 459/459 [01:32<00:00,  4.96it/s]\n"
     ]
    },
    {
     "name": "stdout",
     "output_type": "stream",
     "text": [
      "第18个epoch的学习率:7.938926261462401e-05\n",
      "[ Train | 018/030  loss= 1.29230\n",
      "Starting epoch19\n"
     ]
    },
    {
     "name": "stderr",
     "output_type": "stream",
     "text": [
      "100%|█████████████████████████████████████████████████████████████████████████████████████████| 459/459 [01:32<00:00,  4.94it/s]\n"
     ]
    },
    {
     "name": "stdout",
     "output_type": "stream",
     "text": [
      "第19个epoch的学习率:9.045084971874779e-05\n",
      "[ Train | 019/030  loss= 1.29558\n",
      "Starting epoch20\n"
     ]
    },
    {
     "name": "stderr",
     "output_type": "stream",
     "text": [
      "100%|█████████████████████████████████████████████████████████████████████████████████████████| 459/459 [01:32<00:00,  4.95it/s]\n"
     ]
    },
    {
     "name": "stdout",
     "output_type": "stream",
     "text": [
      "第20个epoch的学习率:9.755282581475812e-05\n",
      "[ Train | 020/030  loss= 1.28504\n",
      "Starting epoch21\n"
     ]
    },
    {
     "name": "stderr",
     "output_type": "stream",
     "text": [
      "100%|█████████████████████████████████████████████████████████████████████████████████████████| 459/459 [01:32<00:00,  4.94it/s]\n"
     ]
    },
    {
     "name": "stdout",
     "output_type": "stream",
     "text": [
      "第21个epoch的学习率:0.00010000000000000044\n",
      "[ Train | 021/030  loss= 1.26891\n",
      "Starting epoch22\n"
     ]
    },
    {
     "name": "stderr",
     "output_type": "stream",
     "text": [
      "100%|█████████████████████████████████████████████████████████████████████████████████████████| 459/459 [01:32<00:00,  4.94it/s]\n"
     ]
    },
    {
     "name": "stdout",
     "output_type": "stream",
     "text": [
      "第22个epoch的学习率:9.75528258147581e-05\n",
      "[ Train | 022/030  loss= 1.22694\n",
      "Starting epoch23\n"
     ]
    },
    {
     "name": "stderr",
     "output_type": "stream",
     "text": [
      "100%|█████████████████████████████████████████████████████████████████████████████████████████| 459/459 [01:33<00:00,  4.93it/s]\n"
     ]
    },
    {
     "name": "stdout",
     "output_type": "stream",
     "text": [
      "第23个epoch的学习率:9.04508497187478e-05\n",
      "[ Train | 023/030  loss= 1.18919\n",
      "Starting epoch24\n"
     ]
    },
    {
     "name": "stderr",
     "output_type": "stream",
     "text": [
      "100%|█████████████████████████████████████████████████████████████████████████████████████████| 459/459 [01:32<00:00,  4.94it/s]\n"
     ]
    },
    {
     "name": "stdout",
     "output_type": "stream",
     "text": [
      "第24个epoch的学习率:7.938926261462401e-05\n",
      "[ Train | 024/030  loss= 1.14315\n",
      "Starting epoch25\n"
     ]
    },
    {
     "name": "stderr",
     "output_type": "stream",
     "text": [
      "100%|█████████████████████████████████████████████████████████████████████████████████████████| 459/459 [01:32<00:00,  4.94it/s]\n"
     ]
    },
    {
     "name": "stdout",
     "output_type": "stream",
     "text": [
      "第25个epoch的学习率:6.545084971874767e-05\n",
      "[ Train | 025/030  loss= 1.10735\n",
      "Starting epoch26\n"
     ]
    },
    {
     "name": "stderr",
     "output_type": "stream",
     "text": [
      "100%|█████████████████████████████████████████████████████████████████████████████████████████| 459/459 [01:34<00:00,  4.83it/s]\n"
     ]
    },
    {
     "name": "stdout",
     "output_type": "stream",
     "text": [
      "第26个epoch的学习率:5.0000000000000226e-05\n",
      "[ Train | 026/030  loss= 1.05811\n",
      "Starting epoch27\n"
     ]
    },
    {
     "name": "stderr",
     "output_type": "stream",
     "text": [
      "100%|█████████████████████████████████████████████████████████████████████████████████████████| 459/459 [01:35<00:00,  4.79it/s]\n"
     ]
    },
    {
     "name": "stdout",
     "output_type": "stream",
     "text": [
      "第27个epoch的学习率:3.454915028125279e-05\n",
      "[ Train | 027/030  loss= 1.02280\n",
      "Starting epoch28\n"
     ]
    },
    {
     "name": "stderr",
     "output_type": "stream",
     "text": [
      "100%|█████████████████████████████████████████████████████████████████████████████████████████| 459/459 [01:32<00:00,  4.94it/s]\n"
     ]
    },
    {
     "name": "stdout",
     "output_type": "stream",
     "text": [
      "第28个epoch的学习率:2.0610737385376444e-05\n",
      "[ Train | 028/030  loss= 0.99629\n",
      "Starting epoch29\n"
     ]
    },
    {
     "name": "stderr",
     "output_type": "stream",
     "text": [
      "100%|█████████████████████████████████████████████████████████████████████████████████████████| 459/459 [01:32<00:00,  4.95it/s]\n"
     ]
    },
    {
     "name": "stdout",
     "output_type": "stream",
     "text": [
      "第29个epoch的学习率:9.54915028125268e-06\n",
      "[ Train | 029/030  loss= 0.97092\n",
      "Starting epoch30\n"
     ]
    },
    {
     "name": "stderr",
     "output_type": "stream",
     "text": [
      "100%|█████████████████████████████████████████████████████████████████████████████████████████| 459/459 [01:32<00:00,  4.95it/s]\n"
     ]
    },
    {
     "name": "stdout",
     "output_type": "stream",
     "text": [
      "第30个epoch的学习率:2.44717418524234e-06\n",
      "[ Train | 030/030  loss= 0.97302\n",
      "Train process has finished . Saving trained model.\n",
      "Starting validation\n",
      "saveing model with loss 0.9730158336541751\n"
     ]
    },
    {
     "name": "stderr",
     "output_type": "stream",
     "text": [
      "100%|█████████████████████████████████████████████████████████████████████████████████████████| 115/115 [00:06<00:00, 16.83it/s]\n"
     ]
    },
    {
     "name": "stdout",
     "output_type": "stream",
     "text": [
      "[ Valid | 030/030  loss = 0.03265, acc = 0.98495\n",
      "Accuracy for fold 0: 0\n",
      "--------------------------------------\n",
      "Fold 1\n",
      "--------------------------------------\n",
      "Starting epoch1\n"
     ]
    },
    {
     "name": "stderr",
     "output_type": "stream",
     "text": [
      "100%|█████████████████████████████████████████████████████████████████████████████████████████| 459/459 [01:33<00:00,  4.90it/s]\n"
     ]
    },
    {
     "name": "stdout",
     "output_type": "stream",
     "text": [
      "第1个epoch的学习率:0.0001\n",
      "[ Train | 001/030  loss= 3.31108\n",
      "Starting epoch2\n"
     ]
    },
    {
     "name": "stderr",
     "output_type": "stream",
     "text": [
      "100%|█████████████████████████████████████████████████████████████████████████████████████████| 459/459 [01:34<00:00,  4.85it/s]\n"
     ]
    },
    {
     "name": "stdout",
     "output_type": "stream",
     "text": [
      "第2个epoch的学习率:9.755282581475769e-05\n",
      "[ Train | 002/030  loss= 2.15035\n",
      "Starting epoch3\n"
     ]
    },
    {
     "name": "stderr",
     "output_type": "stream",
     "text": [
      "100%|█████████████████████████████████████████████████████████████████████████████████████████| 459/459 [01:33<00:00,  4.90it/s]\n"
     ]
    },
    {
     "name": "stdout",
     "output_type": "stream",
     "text": [
      "第3个epoch的学习率:9.045084971874737e-05\n",
      "[ Train | 003/030  loss= 1.84315\n",
      "Starting epoch4\n"
     ]
    },
    {
     "name": "stderr",
     "output_type": "stream",
     "text": [
      "100%|█████████████████████████████████████████████████████████████████████████████████████████| 459/459 [01:32<00:00,  4.96it/s]\n"
     ]
    },
    {
     "name": "stdout",
     "output_type": "stream",
     "text": [
      "第4个epoch的学习率:7.938926261462366e-05\n",
      "[ Train | 004/030  loss= 1.67500\n",
      "Starting epoch5\n"
     ]
    },
    {
     "name": "stderr",
     "output_type": "stream",
     "text": [
      "100%|█████████████████████████████████████████████████████████████████████████████████████████| 459/459 [01:32<00:00,  4.96it/s]\n"
     ]
    },
    {
     "name": "stdout",
     "output_type": "stream",
     "text": [
      "第5个epoch的学习率:6.545084971874737e-05\n",
      "[ Train | 005/030  loss= 1.54840\n",
      "Starting epoch6\n"
     ]
    },
    {
     "name": "stderr",
     "output_type": "stream",
     "text": [
      "100%|█████████████████████████████████████████████████████████████████████████████████████████| 459/459 [01:33<00:00,  4.93it/s]\n"
     ]
    },
    {
     "name": "stdout",
     "output_type": "stream",
     "text": [
      "第6个epoch的学习率:4.9999999999999996e-05\n",
      "[ Train | 006/030  loss= 1.43985\n",
      "Starting epoch7\n"
     ]
    },
    {
     "name": "stderr",
     "output_type": "stream",
     "text": [
      "100%|█████████████████████████████████████████████████████████████████████████████████████████| 459/459 [01:32<00:00,  4.94it/s]\n"
     ]
    },
    {
     "name": "stdout",
     "output_type": "stream",
     "text": [
      "第7个epoch的学习率:3.454915028125263e-05\n",
      "[ Train | 007/030  loss= 1.37006\n",
      "Starting epoch8\n"
     ]
    },
    {
     "name": "stderr",
     "output_type": "stream",
     "text": [
      "100%|█████████████████████████████████████████████████████████████████████████████████████████| 459/459 [01:33<00:00,  4.93it/s]\n"
     ]
    },
    {
     "name": "stdout",
     "output_type": "stream",
     "text": [
      "第8个epoch的学习率:2.0610737385376345e-05\n",
      "[ Train | 008/030  loss= 1.32534\n",
      "Starting epoch9\n"
     ]
    },
    {
     "name": "stderr",
     "output_type": "stream",
     "text": [
      "100%|█████████████████████████████████████████████████████████████████████████████████████████| 459/459 [01:33<00:00,  4.93it/s]\n"
     ]
    },
    {
     "name": "stdout",
     "output_type": "stream",
     "text": [
      "第9个epoch的学习率:9.549150281252631e-06\n",
      "[ Train | 009/030  loss= 1.28494\n",
      "Starting epoch10\n"
     ]
    },
    {
     "name": "stderr",
     "output_type": "stream",
     "text": [
      "100%|█████████████████████████████████████████████████████████████████████████████████████████| 459/459 [01:34<00:00,  4.85it/s]\n"
     ]
    },
    {
     "name": "stdout",
     "output_type": "stream",
     "text": [
      "第10个epoch的学习率:2.447174185242323e-06\n",
      "[ Train | 010/030  loss= 1.26753\n",
      "Starting epoch11\n"
     ]
    },
    {
     "name": "stderr",
     "output_type": "stream",
     "text": [
      "100%|█████████████████████████████████████████████████████████████████████████████████████████| 459/459 [01:32<00:00,  4.96it/s]\n"
     ]
    },
    {
     "name": "stdout",
     "output_type": "stream",
     "text": [
      "第11个epoch的学习率:0.0\n",
      "[ Train | 011/030  loss= 1.24943\n",
      "Starting epoch12\n"
     ]
    },
    {
     "name": "stderr",
     "output_type": "stream",
     "text": [
      "100%|█████████████████████████████████████████████████████████████████████████████████████████| 459/459 [01:32<00:00,  4.95it/s]\n"
     ]
    },
    {
     "name": "stdout",
     "output_type": "stream",
     "text": [
      "第12个epoch的学习率:2.4471741852423237e-06\n",
      "[ Train | 012/030  loss= 1.25418\n",
      "Starting epoch13\n"
     ]
    },
    {
     "name": "stderr",
     "output_type": "stream",
     "text": [
      "100%|█████████████████████████████████████████████████████████████████████████████████████████| 459/459 [01:32<00:00,  4.96it/s]\n"
     ]
    },
    {
     "name": "stdout",
     "output_type": "stream",
     "text": [
      "第13个epoch的学习率:9.549150281252667e-06\n",
      "[ Train | 013/030  loss= 1.25551\n",
      "Starting epoch14\n"
     ]
    },
    {
     "name": "stderr",
     "output_type": "stream",
     "text": [
      "100%|█████████████████████████████████████████████████████████████████████████████████████████| 459/459 [01:33<00:00,  4.93it/s]\n"
     ]
    },
    {
     "name": "stdout",
     "output_type": "stream",
     "text": [
      "第14个epoch的学习率:2.0610737385376434e-05\n",
      "[ Train | 014/030  loss= 1.27693\n",
      "Starting epoch15\n"
     ]
    },
    {
     "name": "stderr",
     "output_type": "stream",
     "text": [
      "100%|█████████████████████████████████████████████████████████████████████████████████████████| 459/459 [01:33<00:00,  4.92it/s]\n"
     ]
    },
    {
     "name": "stdout",
     "output_type": "stream",
     "text": [
      "第15个epoch的学习率:3.4549150281252785e-05\n",
      "[ Train | 015/030  loss= 1.26926\n",
      "Starting epoch16\n"
     ]
    },
    {
     "name": "stderr",
     "output_type": "stream",
     "text": [
      "100%|█████████████████████████████████████████████████████████████████████████████████████████| 459/459 [01:34<00:00,  4.85it/s]\n"
     ]
    },
    {
     "name": "stdout",
     "output_type": "stream",
     "text": [
      "第16个epoch的学习率:5.0000000000000226e-05\n",
      "[ Train | 016/030  loss= 1.27771\n",
      "Starting epoch17\n"
     ]
    },
    {
     "name": "stderr",
     "output_type": "stream",
     "text": [
      "100%|█████████████████████████████████████████████████████████████████████████████████████████| 459/459 [01:32<00:00,  4.95it/s]\n"
     ]
    },
    {
     "name": "stdout",
     "output_type": "stream",
     "text": [
      "第17个epoch的学习率:6.545084971874767e-05\n",
      "[ Train | 017/030  loss= 1.29922\n",
      "Starting epoch18\n"
     ]
    },
    {
     "name": "stderr",
     "output_type": "stream",
     "text": [
      "100%|█████████████████████████████████████████████████████████████████████████████████████████| 459/459 [01:32<00:00,  4.95it/s]\n"
     ]
    },
    {
     "name": "stdout",
     "output_type": "stream",
     "text": [
      "第18个epoch的学习率:7.938926261462401e-05\n",
      "[ Train | 018/030  loss= 1.30367\n",
      "Starting epoch19\n"
     ]
    },
    {
     "name": "stderr",
     "output_type": "stream",
     "text": [
      "100%|█████████████████████████████████████████████████████████████████████████████████████████| 459/459 [01:32<00:00,  4.94it/s]\n"
     ]
    },
    {
     "name": "stdout",
     "output_type": "stream",
     "text": [
      "第19个epoch的学习率:9.045084971874779e-05\n",
      "[ Train | 019/030  loss= 1.30247\n",
      "Starting epoch20\n"
     ]
    },
    {
     "name": "stderr",
     "output_type": "stream",
     "text": [
      "100%|█████████████████████████████████████████████████████████████████████████████████████████| 459/459 [01:32<00:00,  4.95it/s]\n"
     ]
    },
    {
     "name": "stdout",
     "output_type": "stream",
     "text": [
      "第20个epoch的学习率:9.755282581475812e-05\n",
      "[ Train | 020/030  loss= 1.27666\n",
      "Starting epoch21\n"
     ]
    },
    {
     "name": "stderr",
     "output_type": "stream",
     "text": [
      "100%|█████████████████████████████████████████████████████████████████████████████████████████| 459/459 [01:33<00:00,  4.93it/s]\n"
     ]
    },
    {
     "name": "stdout",
     "output_type": "stream",
     "text": [
      "第21个epoch的学习率:0.00010000000000000044\n",
      "[ Train | 021/030  loss= 1.27240\n",
      "Starting epoch22\n"
     ]
    },
    {
     "name": "stderr",
     "output_type": "stream",
     "text": [
      "100%|█████████████████████████████████████████████████████████████████████████████████████████| 459/459 [01:42<00:00,  4.49it/s]\n"
     ]
    },
    {
     "name": "stdout",
     "output_type": "stream",
     "text": [
      "第22个epoch的学习率:9.75528258147581e-05\n",
      "[ Train | 022/030  loss= 1.23166\n",
      "Starting epoch23\n"
     ]
    },
    {
     "name": "stderr",
     "output_type": "stream",
     "text": [
      "100%|█████████████████████████████████████████████████████████████████████████████████████████| 459/459 [01:36<00:00,  4.76it/s]\n"
     ]
    },
    {
     "name": "stdout",
     "output_type": "stream",
     "text": [
      "第23个epoch的学习率:9.04508497187478e-05\n",
      "[ Train | 023/030  loss= 1.20709\n",
      "Starting epoch24\n"
     ]
    },
    {
     "name": "stderr",
     "output_type": "stream",
     "text": [
      "100%|█████████████████████████████████████████████████████████████████████████████████████████| 459/459 [01:33<00:00,  4.91it/s]\n"
     ]
    },
    {
     "name": "stdout",
     "output_type": "stream",
     "text": [
      "第24个epoch的学习率:7.938926261462401e-05\n",
      "[ Train | 024/030  loss= 1.16067\n",
      "Starting epoch25\n"
     ]
    },
    {
     "name": "stderr",
     "output_type": "stream",
     "text": [
      "100%|█████████████████████████████████████████████████████████████████████████████████████████| 459/459 [01:33<00:00,  4.91it/s]\n"
     ]
    },
    {
     "name": "stdout",
     "output_type": "stream",
     "text": [
      "第25个epoch的学习率:6.545084971874767e-05\n",
      "[ Train | 025/030  loss= 1.11216\n",
      "Starting epoch26\n"
     ]
    },
    {
     "name": "stderr",
     "output_type": "stream",
     "text": [
      "100%|█████████████████████████████████████████████████████████████████████████████████████████| 459/459 [01:34<00:00,  4.87it/s]\n"
     ]
    },
    {
     "name": "stdout",
     "output_type": "stream",
     "text": [
      "第26个epoch的学习率:5.0000000000000226e-05\n",
      "[ Train | 026/030  loss= 1.07537\n",
      "Starting epoch27\n"
     ]
    },
    {
     "name": "stderr",
     "output_type": "stream",
     "text": [
      "100%|█████████████████████████████████████████████████████████████████████████████████████████| 459/459 [01:33<00:00,  4.89it/s]\n"
     ]
    },
    {
     "name": "stdout",
     "output_type": "stream",
     "text": [
      "第27个epoch的学习率:3.454915028125279e-05\n",
      "[ Train | 027/030  loss= 1.03030\n",
      "Starting epoch28\n"
     ]
    },
    {
     "name": "stderr",
     "output_type": "stream",
     "text": [
      "100%|█████████████████████████████████████████████████████████████████████████████████████████| 459/459 [01:32<00:00,  4.94it/s]\n"
     ]
    },
    {
     "name": "stdout",
     "output_type": "stream",
     "text": [
      "第28个epoch的学习率:2.0610737385376444e-05\n",
      "[ Train | 028/030  loss= 1.01262\n",
      "Starting epoch29\n"
     ]
    },
    {
     "name": "stderr",
     "output_type": "stream",
     "text": [
      "100%|█████████████████████████████████████████████████████████████████████████████████████████| 459/459 [01:33<00:00,  4.91it/s]\n"
     ]
    },
    {
     "name": "stdout",
     "output_type": "stream",
     "text": [
      "第29个epoch的学习率:9.54915028125268e-06\n",
      "[ Train | 029/030  loss= 0.98608\n",
      "Starting epoch30\n"
     ]
    },
    {
     "name": "stderr",
     "output_type": "stream",
     "text": [
      "100%|█████████████████████████████████████████████████████████████████████████████████████████| 459/459 [01:33<00:00,  4.93it/s]\n"
     ]
    },
    {
     "name": "stdout",
     "output_type": "stream",
     "text": [
      "第30个epoch的学习率:2.44717418524234e-06\n",
      "[ Train | 030/030  loss= 0.97379\n",
      "Train process has finished . Saving trained model.\n",
      "Starting validation\n",
      "saveing model with loss 0.9737943656304303\n"
     ]
    },
    {
     "name": "stderr",
     "output_type": "stream",
     "text": [
      "100%|█████████████████████████████████████████████████████████████████████████████████████████| 115/115 [00:06<00:00, 16.88it/s]\n"
     ]
    },
    {
     "name": "stdout",
     "output_type": "stream",
     "text": [
      "[ Valid | 030/030  loss = 0.03803, acc = 0.98641\n",
      "Accuracy for fold 1: 0\n",
      "--------------------------------------\n",
      "Fold 2\n",
      "--------------------------------------\n",
      "Starting epoch1\n"
     ]
    },
    {
     "name": "stderr",
     "output_type": "stream",
     "text": [
      "100%|█████████████████████████████████████████████████████████████████████████████████████████| 459/459 [01:34<00:00,  4.85it/s]\n"
     ]
    },
    {
     "name": "stdout",
     "output_type": "stream",
     "text": [
      "第1个epoch的学习率:0.0001\n",
      "[ Train | 001/030  loss= 3.31240\n",
      "Starting epoch2\n"
     ]
    },
    {
     "name": "stderr",
     "output_type": "stream",
     "text": [
      "100%|█████████████████████████████████████████████████████████████████████████████████████████| 459/459 [01:33<00:00,  4.89it/s]\n"
     ]
    },
    {
     "name": "stdout",
     "output_type": "stream",
     "text": [
      "第2个epoch的学习率:9.755282581475769e-05\n",
      "[ Train | 002/030  loss= 2.17219\n",
      "Starting epoch3\n"
     ]
    },
    {
     "name": "stderr",
     "output_type": "stream",
     "text": [
      "100%|█████████████████████████████████████████████████████████████████████████████████████████| 459/459 [01:33<00:00,  4.91it/s]\n"
     ]
    },
    {
     "name": "stdout",
     "output_type": "stream",
     "text": [
      "第3个epoch的学习率:9.045084971874737e-05\n",
      "[ Train | 003/030  loss= 1.84902\n",
      "Starting epoch4\n"
     ]
    },
    {
     "name": "stderr",
     "output_type": "stream",
     "text": [
      "100%|█████████████████████████████████████████████████████████████████████████████████████████| 459/459 [01:33<00:00,  4.92it/s]\n"
     ]
    },
    {
     "name": "stdout",
     "output_type": "stream",
     "text": [
      "第4个epoch的学习率:7.938926261462366e-05\n",
      "[ Train | 004/030  loss= 1.68089\n",
      "Starting epoch5\n"
     ]
    },
    {
     "name": "stderr",
     "output_type": "stream",
     "text": [
      "100%|█████████████████████████████████████████████████████████████████████████████████████████| 459/459 [01:32<00:00,  4.95it/s]\n"
     ]
    },
    {
     "name": "stdout",
     "output_type": "stream",
     "text": [
      "第5个epoch的学习率:6.545084971874737e-05\n",
      "[ Train | 005/030  loss= 1.54018\n",
      "Starting epoch6\n"
     ]
    },
    {
     "name": "stderr",
     "output_type": "stream",
     "text": [
      "100%|█████████████████████████████████████████████████████████████████████████████████████████| 459/459 [01:32<00:00,  4.95it/s]\n"
     ]
    },
    {
     "name": "stdout",
     "output_type": "stream",
     "text": [
      "第6个epoch的学习率:4.9999999999999996e-05\n",
      "[ Train | 006/030  loss= 1.44891\n",
      "Starting epoch7\n"
     ]
    },
    {
     "name": "stderr",
     "output_type": "stream",
     "text": [
      "100%|█████████████████████████████████████████████████████████████████████████████████████████| 459/459 [01:34<00:00,  4.86it/s]\n"
     ]
    },
    {
     "name": "stdout",
     "output_type": "stream",
     "text": [
      "第7个epoch的学习率:3.454915028125263e-05\n",
      "[ Train | 007/030  loss= 1.35801\n",
      "Starting epoch8\n"
     ]
    },
    {
     "name": "stderr",
     "output_type": "stream",
     "text": [
      "100%|█████████████████████████████████████████████████████████████████████████████████████████| 459/459 [01:33<00:00,  4.93it/s]\n"
     ]
    },
    {
     "name": "stdout",
     "output_type": "stream",
     "text": [
      "第8个epoch的学习率:2.0610737385376345e-05\n",
      "[ Train | 008/030  loss= 1.32224\n",
      "Starting epoch9\n"
     ]
    },
    {
     "name": "stderr",
     "output_type": "stream",
     "text": [
      "100%|█████████████████████████████████████████████████████████████████████████████████████████| 459/459 [01:33<00:00,  4.91it/s]\n"
     ]
    },
    {
     "name": "stdout",
     "output_type": "stream",
     "text": [
      "第9个epoch的学习率:9.549150281252631e-06\n",
      "[ Train | 009/030  loss= 1.29127\n",
      "Starting epoch10\n"
     ]
    },
    {
     "name": "stderr",
     "output_type": "stream",
     "text": [
      "100%|█████████████████████████████████████████████████████████████████████████████████████████| 459/459 [01:33<00:00,  4.93it/s]\n"
     ]
    },
    {
     "name": "stdout",
     "output_type": "stream",
     "text": [
      "第10个epoch的学习率:2.447174185242323e-06\n",
      "[ Train | 010/030  loss= 1.25509\n",
      "Starting epoch11\n"
     ]
    },
    {
     "name": "stderr",
     "output_type": "stream",
     "text": [
      "100%|█████████████████████████████████████████████████████████████████████████████████████████| 459/459 [01:33<00:00,  4.91it/s]\n"
     ]
    },
    {
     "name": "stdout",
     "output_type": "stream",
     "text": [
      "第11个epoch的学习率:0.0\n",
      "[ Train | 011/030  loss= 1.26785\n",
      "Starting epoch12\n"
     ]
    },
    {
     "name": "stderr",
     "output_type": "stream",
     "text": [
      "100%|█████████████████████████████████████████████████████████████████████████████████████████| 459/459 [01:33<00:00,  4.92it/s]\n"
     ]
    },
    {
     "name": "stdout",
     "output_type": "stream",
     "text": [
      "第12个epoch的学习率:2.4471741852423237e-06\n",
      "[ Train | 012/030  loss= 1.24184\n",
      "Starting epoch13\n"
     ]
    },
    {
     "name": "stderr",
     "output_type": "stream",
     "text": [
      "100%|█████████████████████████████████████████████████████████████████████████████████████████| 459/459 [01:33<00:00,  4.92it/s]\n"
     ]
    },
    {
     "name": "stdout",
     "output_type": "stream",
     "text": [
      "第13个epoch的学习率:9.549150281252667e-06\n",
      "[ Train | 013/030  loss= 1.25837\n",
      "Starting epoch14\n"
     ]
    },
    {
     "name": "stderr",
     "output_type": "stream",
     "text": [
      "100%|█████████████████████████████████████████████████████████████████████████████████████████| 459/459 [01:33<00:00,  4.90it/s]\n"
     ]
    },
    {
     "name": "stdout",
     "output_type": "stream",
     "text": [
      "第14个epoch的学习率:2.0610737385376434e-05\n",
      "[ Train | 014/030  loss= 1.26282\n",
      "Starting epoch15\n"
     ]
    },
    {
     "name": "stderr",
     "output_type": "stream",
     "text": [
      "100%|█████████████████████████████████████████████████████████████████████████████████████████| 459/459 [01:33<00:00,  4.89it/s]\n"
     ]
    },
    {
     "name": "stdout",
     "output_type": "stream",
     "text": [
      "第15个epoch的学习率:3.4549150281252785e-05\n",
      "[ Train | 015/030  loss= 1.26968\n",
      "Starting epoch16\n"
     ]
    },
    {
     "name": "stderr",
     "output_type": "stream",
     "text": [
      "100%|█████████████████████████████████████████████████████████████████████████████████████████| 459/459 [01:33<00:00,  4.91it/s]\n"
     ]
    },
    {
     "name": "stdout",
     "output_type": "stream",
     "text": [
      "第16个epoch的学习率:5.0000000000000226e-05\n",
      "[ Train | 016/030  loss= 1.28392\n",
      "Starting epoch17\n"
     ]
    },
    {
     "name": "stderr",
     "output_type": "stream",
     "text": [
      "100%|█████████████████████████████████████████████████████████████████████████████████████████| 459/459 [01:47<00:00,  4.29it/s]\n"
     ]
    },
    {
     "name": "stdout",
     "output_type": "stream",
     "text": [
      "第17个epoch的学习率:6.545084971874767e-05\n",
      "[ Train | 017/030  loss= 1.30239\n",
      "Starting epoch18\n"
     ]
    },
    {
     "name": "stderr",
     "output_type": "stream",
     "text": [
      "100%|█████████████████████████████████████████████████████████████████████████████████████████| 459/459 [01:40<00:00,  4.57it/s]\n"
     ]
    },
    {
     "name": "stdout",
     "output_type": "stream",
     "text": [
      "第18个epoch的学习率:7.938926261462401e-05\n",
      "[ Train | 018/030  loss= 1.31295\n",
      "Starting epoch19\n"
     ]
    },
    {
     "name": "stderr",
     "output_type": "stream",
     "text": [
      "100%|█████████████████████████████████████████████████████████████████████████████████████████| 459/459 [01:33<00:00,  4.92it/s]\n"
     ]
    },
    {
     "name": "stdout",
     "output_type": "stream",
     "text": [
      "第19个epoch的学习率:9.045084971874779e-05\n",
      "[ Train | 019/030  loss= 1.28966\n",
      "Starting epoch20\n"
     ]
    },
    {
     "name": "stderr",
     "output_type": "stream",
     "text": [
      "100%|█████████████████████████████████████████████████████████████████████████████████████████| 459/459 [01:33<00:00,  4.89it/s]\n"
     ]
    },
    {
     "name": "stdout",
     "output_type": "stream",
     "text": [
      "第20个epoch的学习率:9.755282581475812e-05\n",
      "[ Train | 020/030  loss= 1.28863\n",
      "Starting epoch21\n"
     ]
    },
    {
     "name": "stderr",
     "output_type": "stream",
     "text": [
      "100%|█████████████████████████████████████████████████████████████████████████████████████████| 459/459 [01:33<00:00,  4.93it/s]\n"
     ]
    },
    {
     "name": "stdout",
     "output_type": "stream",
     "text": [
      "第21个epoch的学习率:0.00010000000000000044\n",
      "[ Train | 021/030  loss= 1.26767\n",
      "Starting epoch22\n"
     ]
    },
    {
     "name": "stderr",
     "output_type": "stream",
     "text": [
      " 78%|█████████████████████████████████████████████████████████████████████                    | 356/459 [01:13<00:20,  4.96it/s]"
     ]
    }
   ],
   "source": [
    "\n",
    "k_folds = 5\n",
    "\n",
    "\n",
    "train1(k_folds=k_folds)\n",
    "predict1(k_folds)\n"
   ]
  }
 ],
 "metadata": {
  "kernelspec": {
   "display_name": "Python 3 (ipykernel)",
   "language": "python",
   "name": "python3"
  },
  "language_info": {
   "codemirror_mode": {
    "name": "ipython",
    "version": 3
   },
   "file_extension": ".py",
   "mimetype": "text/x-python",
   "name": "python",
   "nbconvert_exporter": "python",
   "pygments_lexer": "ipython3",
   "version": "3.8.0"
  }
 },
 "nbformat": 4,
 "nbformat_minor": 5
}
