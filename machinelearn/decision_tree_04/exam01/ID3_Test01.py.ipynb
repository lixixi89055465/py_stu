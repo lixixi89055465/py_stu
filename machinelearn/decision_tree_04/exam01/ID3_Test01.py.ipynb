{
 "cells": [
  {
   "cell_type": "code",
   "execution_count": null,
   "id": "5864795b",
   "metadata": {},
   "outputs": [],
   "source": [
    "import sys\n",
    "sys.path.append(\"..\")\n",
    "sys.path.append(\"../..\")\n",
    "import random\n",
    "import numpy as np\n",
    "import matplotlib.pyplot as plt\n",
    "from .decision_tree_04.entropy_utils import EntropyUtils\n",
    "\n",
    "\n",
    "# 看特征的取值的个数对信息增益的影响\n",
    "epochs = 100\n",
    "class_num_x = 100\n",
    "class_num_y = 2\n",
    "num_samples = 100\n",
    "info_gains, info_gain_rates = [], []  # 信息增益ID3,信息增益率 C4.5\n",
    "for _ in range(0, epochs):\n",
    "    info_gain_, info_gain_rate_ = [], []\n",
    "    for class_x in range(2, class_num_x):\n",
    "        x, y = [], []\n",
    "        for _ in range(num_samples):\n",
    "            x.append(random.randint(1, class_x))\n",
    "            y.append(random.randint(1, class_num_y))\n",
    "        info_gain_.append(EntropyUtils().info_gain(x, y))  # 信息增益 ID3\n",
    "        info_gain_rate_.append(EntropyUtils().info_gain_rate(x, y))  # 信息增益率 C4.5\n",
    "    info_gains.append(info_gain_)\n",
    "    info_gain_rates.append(info_gain_rate_)\n",
    "# 信息增益和信息增益率可视化\n",
    "\n",
    "plt.figure(figsize=(8, 6))\n",
    "plt.plot(np.asarray(info_gains).mean(axis=0), lw=1.5, label='Information Gain')\n",
    "plt.plot(np.asarray(info_gain_rates).mean(axis=0), lw=1.5, label='Information Gain Rate')\n",
    "plt.xlabel('The number of Values (Feature - X)', fontsize=12)\n",
    "plt.ylabel('information gain / information gain rate ', fontsize=12)\n",
    "plt.title('Information gain VS information Gain rate increases with \\n',\n",
    "          'the number of sample characteristics', fontdict=14)\n",
    "plt.grid(ls=':')\n",
    "plt.legend(frameon=False)\n",
    "plt.savefig('a.png')\n",
    "plt.show()\n"
   ]
  }
 ],
 "metadata": {
  "kernelspec": {
   "display_name": "Python 3 (ipykernel)",
   "language": "python",
   "name": "python3"
  },
  "language_info": {
   "codemirror_mode": {
    "name": "ipython",
    "version": 3
   },
   "file_extension": ".py",
   "mimetype": "text/x-python",
   "name": "python",
   "nbconvert_exporter": "python",
   "pygments_lexer": "ipython3",
   "version": "3.8.0"
  }
 },
 "nbformat": 4,
 "nbformat_minor": 5
}
